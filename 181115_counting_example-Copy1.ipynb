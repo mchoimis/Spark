{
 "cells": [
  {
   "cell_type": "code",
   "execution_count": 1,
   "metadata": {},
   "outputs": [],
   "source": [
    "import os\n",
    "import findspark\n",
    "findspark.find()\n",
    "findspark.init(os.environ.get(\"SPARK_HOME\"))\n",
    "\n",
    "import sys\n",
    "sys.path.append(\"/Users/minjungchoi/spark/spark-2.4.0-bin-hadoop2.7/python/pyspark\")\n",
    "\n",
    "from pyspark import SparkConf\n",
    "from pyspark import SparkContext\n",
    "from pyspark.sql import SparkSession\n",
    "from pyspark.sql.types import *\n",
    "from pyspark.sql.functions import col, collect_list,udf,concat, lit\n",
    "\n",
    "\n",
    "conf = SparkConf().setAppName(\"comstat-test\").set(\"spark.yarn.driver.memoryOverhead\", \"2048\")   \\\n",
    "         .set(\"spark.yarn.executor.memoryOverhead\", \"2048\")   \\\n",
    "         .set(\"spark.default.parallelism\", \"116\") \\\n",
    "         .set(\"spark.shuffle.compress\", \"true\") \\\n",
    "         .set(\"spark.io.compression.codec\", \"snappy\")\n",
    "\n",
    "spark = SparkSession.builder.config(conf=conf).getOrCreate()\n",
    "sc = spark.sparkContext"
   ]
  },
  {
   "cell_type": "code",
   "execution_count": 12,
   "metadata": {},
   "outputs": [
    {
     "name": "stdout",
     "output_type": "stream",
     "text": [
      "Table\n",
      "+---+-------+-------+--------+----+\n",
      "|CID|WEEKDAY|TIMESEG|LOCATION|SHOP|\n",
      "+---+-------+-------+--------+----+\n",
      "|  A|     WD|      1|    Z001|S001|\n",
      "|  A|     WD|      1|    Z002|S020|\n",
      "|  A|     WD|      2|    Z005|S100|\n",
      "|  A|     WE|      3|    Z001|S001|\n",
      "|  A|     WE|      2|    Z002|S000|\n",
      "|  A|     WE|      1|    Z001|S001|\n",
      "|  A|     WD|      3|    Z001|S001|\n",
      "|  A|     WD|      4|    Z001|S002|\n",
      "|  A|     WD|      4|    Z002|S030|\n",
      "|  A|     WD|      3|    Z003|S009|\n",
      "|  A|     WD|      1|    Z001|S002|\n",
      "|  A|     WD|      2|    Z002|S030|\n",
      "|  A|     WD|      3|    Z001|S001|\n",
      "|  A|     WD|      4|    Z003|S003|\n",
      "|  A|     WD|      4|    Z003|S005|\n",
      "|  A|     WD|      4|    Z001|S001|\n",
      "|  A|     WD|      3|    Z005|S006|\n",
      "|  A|     WE|      2|    Z006|S007|\n",
      "|  A|     WE|      3|    Z001|S002|\n",
      "|  B|     WD|      1|    Z001|S001|\n",
      "+---+-------+-------+--------+----+\n",
      "only showing top 20 rows\n",
      "\n",
      "None\n"
     ]
    }
   ],
   "source": [
    "sampleData = [\n",
    "\t('A','WD','1','Z001','S001'),\n",
    "\t('A','WD','1','Z002','S020'),\n",
    "\t('A','WD','2','Z005','S100'),\n",
    "\t('A','WE','3','Z001','S001'),\n",
    "\t('A','WE','2','Z002','S000'),\n",
    "\t('A','WE','1','Z001','S001'),\n",
    "\t('A','WD','3','Z001','S001'),\n",
    "\t('A','WD','4','Z001','S002'),\n",
    "\t('A','WD','4','Z002','S030'),\n",
    "\t('A','WD','3','Z003','S009'),\n",
    "\t('A','WD','1','Z001','S002'),\n",
    "\t('A','WD','2','Z002','S030'),\n",
    "\t('A','WD','3','Z001','S001'),\n",
    "\t('A','WD','4','Z003','S003'),\n",
    "\t('A','WD','4','Z003','S005'),\n",
    "\t('A','WD','4','Z001','S001'),\n",
    "\t('A','WD','3','Z005','S006'),\n",
    "\t('A','WE','2','Z006','S007'),\n",
    "\t('A','WE','3','Z001','S002'),\n",
    "\t('B','WD','1','Z001','S001'),\n",
    "\t('B','WD','1','Z002','S020'),\n",
    "\t('B','WD','2','Z005','S100'),\n",
    "\t('B','WE','3','Z001','S001'),\n",
    "\t('B','WE','2','Z002','S000'),\n",
    "\t('B','WE','1','Z001','S001'),\n",
    "\t('B','WD','3','Z001','S001'),\n",
    "\t('C','WD','4','Z001','S002'),\n",
    "\t('C','WD','4','Z002','S030'),\n",
    "\t('C','WD','3','Z003','S009'),\n",
    "\t('C','WD','1','Z001','S002'),\n",
    "\t('D','WD','2','Z002','S030'),\n",
    "\t('D','WD','3','Z001','S001'),\n",
    "\t('D','WD','4','Z003','S003'),\n",
    "\t('D','WD','4','Z003','S005'),\n",
    "\t('D','WD','4','Z001','S001'),\n",
    "\t('D','WD','3','Z005','S006'),\n",
    "\t('D','WE','2','Z006','S007'),\n",
    "\t('D','WE','3','Z001','S002'),\n",
    "\t('E','WE','1','Z003','S001'),\n",
    "    ]\n",
    "\n",
    "    \n",
    "field = [\n",
    "\tStructField('CID',StringType(), True),\\\n",
    "\tStructField('WEEKDAY', StringType(), True),\\\n",
    "\tStructField('TIMESEG', StringType(), True),\\\n",
    "\tStructField('LOCATION', StringType(), True),\\\n",
    " \tStructField('SHOP', StringType(), True)]\n",
    "\n",
    "schema = StructType(field)\n",
    "\n",
    "\n",
    "sampleRDD = sc.parallelize(sampleData)\n",
    "sampleDF = spark.createDataFrame(sampleRDD,schema)\n",
    "\n",
    "print('Table')\n",
    "print(sampleDF.show())\n"
   ]
  },
  {
   "cell_type": "code",
   "execution_count": null,
   "metadata": {},
   "outputs": [],
   "source": [
    "# cidByShopMap = sampleDF.rdd.map(lambda x : (x['CID'] +':'+ x['SHOP'], 1))\n",
    "\n",
    "# cidByShop = cidByShopMap.reduceByKey(lambda x,y : x+y)"
   ]
  },
  {
   "cell_type": "code",
   "execution_count": null,
   "metadata": {},
   "outputs": [],
   "source": [
    "# cidByShop.take(20)"
   ]
  },
  {
   "cell_type": "code",
   "execution_count": 5,
   "metadata": {},
   "outputs": [],
   "source": [
    "#%%\n",
    "getTop3List = udf(lambda x:x[0:3],StringType())"
   ]
  },
  {
   "cell_type": "code",
   "execution_count": 13,
   "metadata": {},
   "outputs": [
    {
     "name": "stdout",
     "output_type": "stream",
     "text": [
      "+--------+----+----+----+----+----+----+----+----+----+----+----+\n",
      "|CID_SHOP|S000|S001|S002|S003|S005|S006|S007|S009|S020|S030|S100|\n",
      "+--------+----+----+----+----+----+----+----+----+----+----+----+\n",
      "|       E|   0|   1|   0|   0|   0|   0|   0|   0|   0|   0|   0|\n",
      "|       A|   1|   6|   3|   1|   1|   1|   1|   1|   1|   2|   1|\n",
      "|       B|   1|   4|   0|   0|   0|   0|   0|   0|   1|   0|   1|\n",
      "|       C|   0|   0|   2|   0|   0|   0|   0|   1|   0|   1|   0|\n",
      "|       D|   0|   2|   1|   1|   1|   1|   1|   0|   0|   1|   0|\n",
      "+--------+----+----+----+----+----+----+----+----+----+----+----+\n",
      "\n"
     ]
    }
   ],
   "source": [
    "\n",
    "#%%\n",
    "#cross tab으로 보기\n",
    "sampleDF.crosstab('CID', 'SHOP').show()"
   ]
  },
  {
   "cell_type": "code",
   "execution_count": 14,
   "metadata": {},
   "outputs": [
    {
     "name": "stdout",
     "output_type": "stream",
     "text": [
      "+---+----+-----+\n",
      "|CID|SHOP|count|\n",
      "+---+----+-----+\n",
      "|  E|S001|    1|\n",
      "|  D|S001|    2|\n",
      "|  D|S002|    1|\n",
      "|  D|S030|    1|\n",
      "|  D|S006|    1|\n",
      "|  D|S005|    1|\n",
      "|  D|S003|    1|\n",
      "|  D|S007|    1|\n",
      "|  C|S002|    2|\n",
      "|  C|S030|    1|\n",
      "|  C|S009|    1|\n",
      "|  B|S001|    4|\n",
      "|  B|S100|    1|\n",
      "|  B|S020|    1|\n",
      "|  B|S000|    1|\n",
      "|  A|S001|    6|\n",
      "|  A|S002|    3|\n",
      "|  A|S030|    2|\n",
      "|  A|S005|    1|\n",
      "|  A|S007|    1|\n",
      "+---+----+-----+\n",
      "only showing top 20 rows\n",
      "\n",
      "+---+------------------+\n",
      "|CID|             SHOP3|\n",
      "+---+------------------+\n",
      "|  E|            [S001]|\n",
      "|  B|[S001, S020, S100]|\n",
      "|  D|[S001, S003, S007]|\n",
      "|  C|[S002, S009, S030]|\n",
      "|  A|[S001, S002, S030]|\n",
      "+---+------------------+\n",
      "\n"
     ]
    }
   ],
   "source": [
    "#%%\n",
    "#고객별 최다 방문 SHOP TOP3\n",
    "BySHOP = sampleDF.groupby('CID', 'SHOP').count().orderBy('CID', 'count',ascending=False)\n",
    "\n",
    "BySHOP.show()\n",
    "\n",
    "BySHOP = BySHOP.groupby('CID').agg(collect_list('SHOP').alias('SHOP3'))\\\n",
    "          .withColumn('SHOP3', getTop3List('SHOP3'))\n",
    "\n",
    "BySHOP.show()"
   ]
  },
  {
   "cell_type": "code",
   "execution_count": 15,
   "metadata": {},
   "outputs": [
    {
     "name": "stdout",
     "output_type": "stream",
     "text": [
      "+---+--------+-----+\n",
      "|CID|LOCATION|count|\n",
      "+---+--------+-----+\n",
      "|  E|    Z003|    1|\n",
      "|  D|    Z001|    3|\n",
      "|  D|    Z003|    2|\n",
      "|  D|    Z005|    1|\n",
      "|  D|    Z002|    1|\n",
      "|  D|    Z006|    1|\n",
      "|  C|    Z001|    2|\n",
      "|  C|    Z002|    1|\n",
      "|  C|    Z003|    1|\n",
      "|  B|    Z001|    4|\n",
      "|  B|    Z002|    2|\n",
      "|  B|    Z005|    1|\n",
      "|  A|    Z001|    9|\n",
      "|  A|    Z002|    4|\n",
      "|  A|    Z003|    3|\n",
      "|  A|    Z005|    2|\n",
      "|  A|    Z006|    1|\n",
      "+---+--------+-----+\n",
      "\n",
      "+---+------------------+\n",
      "|CID|         Location3|\n",
      "+---+------------------+\n",
      "|  E|            [Z003]|\n",
      "|  B|[Z001, Z002, Z005]|\n",
      "|  D|[Z001, Z003, Z006]|\n",
      "|  C|[Z001, Z003, Z002]|\n",
      "|  A|[Z001, Z002, Z003]|\n",
      "+---+------------------+\n",
      "\n"
     ]
    }
   ],
   "source": [
    "#%%\n",
    "#고객별 최다 방문 지역 TOP3\n",
    "ByLOCATION = sampleDF.groupby('CID', 'LOCATION').count().orderBy('CID', 'count',ascending=False)\n",
    "\n",
    "ByLOCATION.show()\n",
    "\n",
    "ByLOCATION = ByLOCATION.groupby('CID').agg(collect_list('LOCATION').alias('Location3'))\\\n",
    "          .withColumn('Location3', getTop3List('Location3'))\n",
    "\n",
    "ByLOCATION.show()"
   ]
  },
  {
   "cell_type": "code",
   "execution_count": 16,
   "metadata": {},
   "outputs": [
    {
     "name": "stdout",
     "output_type": "stream",
     "text": [
      "+---+------------+-----+\n",
      "|CID|WEEKDAY_SHOP|count|\n",
      "+---+------------+-----+\n",
      "|  E|     WE|S001|    1|\n",
      "|  D|     WD|S001|    2|\n",
      "|  D|     WE|S002|    1|\n",
      "|  D|     WD|S005|    1|\n",
      "|  D|     WD|S030|    1|\n",
      "|  D|     WE|S007|    1|\n",
      "|  D|     WD|S006|    1|\n",
      "|  D|     WD|S003|    1|\n",
      "|  C|     WD|S002|    2|\n",
      "|  C|     WD|S009|    1|\n",
      "|  C|     WD|S030|    1|\n",
      "|  B|     WE|S001|    2|\n",
      "|  B|     WD|S001|    2|\n",
      "|  B|     WD|S020|    1|\n",
      "|  B|     WD|S100|    1|\n",
      "|  B|     WE|S000|    1|\n",
      "|  A|     WD|S001|    4|\n",
      "|  A|     WD|S002|    2|\n",
      "|  A|     WE|S001|    2|\n",
      "|  A|     WD|S030|    2|\n",
      "+---+------------+-----+\n",
      "only showing top 20 rows\n",
      "\n",
      "+---+--------------------+\n",
      "|CID|       WEEKDAY_SHOP3|\n",
      "+---+--------------------+\n",
      "|  E|           [WE|S001]|\n",
      "|  B|[WD|S001, WE|S001...|\n",
      "|  D|[WD|S001, WD|S005...|\n",
      "|  C|[WD|S002, WD|S030...|\n",
      "|  A|[WD|S001, WD|S002...|\n",
      "+---+--------------------+\n",
      "\n"
     ]
    }
   ],
   "source": [
    "#%%\n",
    "#고객별 최다 방문 주중/주말 방문 SHOP TOP3\n",
    "ByWEEKDAY_SHOP = sampleDF.groupby('CID', 'WEEKDAY', 'SHOP').count().orderBy('CID', 'count',ascending=False)\\\n",
    "                         .select('CID', (concat(col('WEEKDAY') ,lit('|'),col('SHOP')).alias('WEEKDAY_SHOP')), 'count')\n",
    "ByWEEKDAY_SHOP.show()\n",
    "ByWEEKDAY_SHOP = ByWEEKDAY_SHOP.groupby('CID').agg(collect_list('WEEKDAY_SHOP').alias('WEEKDAY_SHOP3'))\\\n",
    "          .withColumn('WEEKDAY_SHOP3', getTop3List('WEEKDAY_SHOP3'))\n",
    "\n",
    "\n",
    "ByWEEKDAY_SHOP.show()"
   ]
  },
  {
   "cell_type": "code",
   "execution_count": 17,
   "metadata": {
    "scrolled": true
   },
   "outputs": [
    {
     "name": "stdout",
     "output_type": "stream",
     "text": [
      "+---+------------------+------------------+--------------------+\n",
      "|CID|             SHOP3|         Location3|       WEEKDAY_SHOP3|\n",
      "+---+------------------+------------------+--------------------+\n",
      "|  E|            [S001]|            [Z003]|           [WE|S001]|\n",
      "|  B|[S001, S020, S100]|[Z001, Z002, Z005]|[WD|S001, WE|S001...|\n",
      "|  D|[S001, S003, S007]|[Z001, Z003, Z006]|[WD|S001, WD|S005...|\n",
      "|  C|[S002, S009, S030]|[Z001, Z003, Z002]|[WD|S002, WD|S030...|\n",
      "|  A|[S001, S002, S030]|[Z001, Z002, Z003]|[WD|S001, WD|S002...|\n",
      "+---+------------------+------------------+--------------------+\n",
      "\n"
     ]
    }
   ],
   "source": [
    "#%%\n",
    "#고객별로 한테이블로 모으자 (굳이 모을 필요는 없고 각자 테이블로 가지고 있는게 나을 걸?)\n",
    "#별도의 고객리스트가 없으면 트랜잭션에서 빼내자\n",
    "users = sampleDF.select('CID').distinct()\n",
    "\n",
    "totalSummary = users.join(BySHOP, BySHOP.CID == users.CID, how='left').drop(BySHOP.CID)\n",
    "\n",
    "totalSummary = totalSummary.join(ByLOCATION, ByLOCATION.CID == totalSummary.CID, how='left').drop(ByLOCATION.CID)\n",
    "totalSummary = totalSummary.join(ByWEEKDAY_SHOP, ByWEEKDAY_SHOP.CID == totalSummary.CID, how='left').drop(ByWEEKDAY_SHOP.CID)\n",
    "totalSummary.show()\n"
   ]
  },
  {
   "cell_type": "code",
   "execution_count": 18,
   "metadata": {},
   "outputs": [
    {
     "name": "stdout",
     "output_type": "stream",
     "text": [
      "Customer by shop\n",
      "[('C:S002', 2), ('A:S030', 2), ('A:S002', 3), ('A:S007', 1), ('D:S002', 1), ('B:S100', 1), ('D:S001', 2), ('D:S006', 1), ('D:S007', 1), ('A:S005', 1), ('A:S009', 1), ('A:S020', 1), ('D:S030', 1), ('D:S005', 1), ('A:S100', 1), ('B:S020', 1), ('D:S003', 1), ('B:S000', 1), ('A:S006', 1), ('A:S001', 6), ('B:S001', 4), ('A:S003', 1), ('C:S030', 1), ('C:S009', 1), ('E:S001', 1), ('A:S000', 1)]\n",
      "Customer by shop TOP 3\n",
      "[('A:S001', 6), ('B:S001', 4), ('A:S002', 3)]\n"
     ]
    }
   ],
   "source": [
    "#%%\n",
    "## map reduce로 그냥 구현\n",
    "cidByShopMap = sampleDF.rdd.map(lambda x : (x['CID'] +':'+ x['SHOP'], 1))\n",
    "\n",
    "cidByShop = cidByShopMap.reduceByKey(lambda x,y : x+y)\n",
    "\n",
    "print('Customer by shop')\n",
    "print(cidByShop.take(50))\n",
    "\n",
    "print('Customer by shop TOP 3')\n",
    "print( cidByShop.sortBy(lambda x: x[1], ascending= False).take(3) )"
   ]
  },
  {
   "cell_type": "code",
   "execution_count": null,
   "metadata": {},
   "outputs": [],
   "source": [
    "#%%\n",
    "sc.stop()"
   ]
  },
  {
   "cell_type": "code",
   "execution_count": null,
   "metadata": {},
   "outputs": [],
   "source": []
  }
 ],
 "metadata": {
  "kernelspec": {
   "display_name": "Python 3",
   "language": "python",
   "name": "python3"
  },
  "language_info": {
   "codemirror_mode": {
    "name": "ipython",
    "version": 3
   },
   "file_extension": ".py",
   "mimetype": "text/x-python",
   "name": "python",
   "nbconvert_exporter": "python",
   "pygments_lexer": "ipython3",
   "version": "3.6.5"
  }
 },
 "nbformat": 4,
 "nbformat_minor": 2
}
